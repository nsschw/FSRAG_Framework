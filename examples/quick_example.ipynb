{
 "cells": [
  {
   "cell_type": "code",
   "execution_count": 1,
   "id": "835df57a",
   "metadata": {},
   "outputs": [
    {
     "name": "stdout",
     "output_type": "stream",
     "text": [
      "^C\n"
     ]
    },
    {
     "name": "stderr",
     "output_type": "stream",
     "text": [
      "WARNING: Ignoring invalid distribution -rotobuf (c:\\users\\nilss\\appdata\\local\\packages\\pythonsoftwarefoundation.python.3.10_qbz5n2kfra8p0\\localcache\\local-packages\\python310\\site-packages)\n",
      "WARNING: Ignoring invalid distribution -atplotlib (c:\\users\\nilss\\appdata\\local\\packages\\pythonsoftwarefoundation.python.3.10_qbz5n2kfra8p0\\localcache\\local-packages\\python310\\site-packages)\n",
      "WARNING: Ignoring invalid distribution -ensorflow (c:\\users\\nilss\\appdata\\local\\packages\\pythonsoftwarefoundation.python.3.10_qbz5n2kfra8p0\\localcache\\local-packages\\python310\\site-packages)\n",
      "WARNING: Ignoring invalid distribution - (c:\\users\\nilss\\appdata\\local\\packages\\pythonsoftwarefoundation.python.3.10_qbz5n2kfra8p0\\localcache\\local-packages\\python310\\site-packages)\n",
      "ERROR: Could not find a version that satisfies the requirement ai_annotator (from versions: none)\n",
      "ERROR: No matching distribution found for ai_annotator\n",
      "\n",
      "[notice] A new release of pip is available: 23.1.1 -> 24.2\n",
      "[notice] To update, run: C:\\Users\\nilss\\AppData\\Local\\Microsoft\\WindowsApps\\PythonSoftwareFoundation.Python.3.10_qbz5n2kfra8p0\\python.exe -m pip install --upgrade pip\n"
     ]
    }
   ],
   "source": [
    "!pip install ai_annotator"
   ]
  },
  {
   "cell_type": "code",
   "execution_count": null,
   "id": "ff0894dd-3cb3-40e6-89ee-57a36b4a9031",
   "metadata": {},
   "outputs": [],
   "source": [
    "from ai_annotator import AnnotationProject\n",
    "import os"
   ]
  },
  {
   "cell_type": "code",
   "execution_count": null,
   "id": "00d24d55-1d80-48f5-bf3f-8dbef7de385d",
   "metadata": {},
   "outputs": [],
   "source": [
    "os.environ[\"OPENAI_API_KEY\"] = ### SET OPENAI_KEY_HERE"
   ]
  },
  {
   "cell_type": "code",
   "execution_count": null,
   "id": "ff3ee723-cc6a-4d60-b12f-198488dbb09d",
   "metadata": {},
   "outputs": [],
   "source": [
    "task = \"\"\"You will be given an abstract of a study. Your task is to determine whether the study is valid based on the following criteria:\n",
    "\n",
    "1. The study must be a meta-analysis.\n",
    "2. The study must examine the association between life satisfaction, well-being, or subjective well-being and any other variable.\n",
    "-> This following terms: [satisfaction, well-being, subjective well-being] have to be named explicitly. If the examined effects are only closely related to this terms the study is not valid.\n",
    "\n",
    "Structure your feedback as follows:\n",
    "\n",
    "Feedback::: \n",
    "Valid: (0 if not valid, 1 if valid)\n",
    "\"\"\""
   ]
  },
  {
   "cell_type": "code",
   "execution_count": null,
   "id": "034bba0b-cc15-4f19-9343-03897eb71144",
   "metadata": {},
   "outputs": [],
   "source": [
    "ap = AnnotationProject(task_description = task, db_path = \"quick_rag\")"
   ]
  },
  {
   "cell_type": "code",
   "execution_count": null,
   "id": "ae27d7d9-5369-4a5b-9ac3-c6588a915c37",
   "metadata": {},
   "outputs": [],
   "source": [
    "ap.add_data_from_csv(\"laura_train.csv\", column_mapping = {\"input\": \"notes_abstract\", \"output\": \"output\"})"
   ]
  },
  {
   "cell_type": "code",
   "execution_count": null,
   "id": "def227af-a78b-4f8c-a27b-8c2e343f1ca0",
   "metadata": {},
   "outputs": [],
   "source": [
    "test_cases = [\"Test_Case_1\", \"Test_Case_2\"]\n",
    "preds = ap.predict(test_cases, number_demonstrations = 5, use_reasoning = False)"
   ]
  }
 ],
 "metadata": {
  "kernelspec": {
   "display_name": "Python 3 (ipykernel)",
   "language": "python",
   "name": "python3"
  },
  "language_info": {
   "codemirror_mode": {
    "name": "ipython",
    "version": 3
   },
   "file_extension": ".py",
   "mimetype": "text/x-python",
   "name": "python",
   "nbconvert_exporter": "python",
   "pygments_lexer": "ipython3",
   "version": "3.10.11"
  }
 },
 "nbformat": 4,
 "nbformat_minor": 5
}
